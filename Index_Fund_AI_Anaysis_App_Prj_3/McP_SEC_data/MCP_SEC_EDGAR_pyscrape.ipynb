{
 "cells": [
  {
   "cell_type": "code",
   "execution_count": 1,
   "metadata": {},
   "outputs": [
    {
     "name": "stdout",
     "output_type": "stream",
     "text": [
      "Collecting edgar\n",
      "  Obtaining dependency information for edgar from https://files.pythonhosted.org/packages/54/30/e757c560c746e282ade457a18971ff17b2f1e50bbf28cf62fe8eba718ac7/edgar-5.4.3-py3-none-any.whl.metadata\n",
      "  Downloading edgar-5.4.3-py3-none-any.whl.metadata (6.7 kB)\n",
      "Collecting sec-edgar-downloader\n",
      "  Obtaining dependency information for sec-edgar-downloader from https://files.pythonhosted.org/packages/8c/f0/d6e043faf5a463c8d6e41b52c9b016c69bb1290bf2c1fee126882133d44f/sec_edgar_downloader-5.0.2-py3-none-any.whl.metadata\n",
      "  Downloading sec_edgar_downloader-5.0.2-py3-none-any.whl.metadata (11 kB)\n",
      "Requirement already satisfied: requests in c:\\programdata\\anaconda3\\lib\\site-packages (from edgar) (2.31.0)\n",
      "Requirement already satisfied: lxml in c:\\programdata\\anaconda3\\lib\\site-packages (from edgar) (4.9.3)\n",
      "Requirement already satisfied: tqdm in c:\\programdata\\anaconda3\\lib\\site-packages (from edgar) (4.65.0)\n",
      "Collecting rapidfuzz (from edgar)\n",
      "  Obtaining dependency information for rapidfuzz from https://files.pythonhosted.org/packages/59/0c/57ee517b3f4acc7719f7c6bdcb31d7e64806060d456ce64de29741f1a58a/rapidfuzz-3.8.1-cp311-cp311-win_amd64.whl.metadata\n",
      "  Downloading rapidfuzz-3.8.1-cp311-cp311-win_amd64.whl.metadata (11 kB)\n",
      "Collecting pyrate-limiter>=3.1.0 (from sec-edgar-downloader)\n",
      "  Obtaining dependency information for pyrate-limiter>=3.1.0 from https://files.pythonhosted.org/packages/a2/76/78124018c5306331961cc43d2ba301d9d3d56610c938b24c828b94751ff7/pyrate_limiter-3.6.0-py3-none-any.whl.metadata\n",
      "  Downloading pyrate_limiter-3.6.0-py3-none-any.whl.metadata (24 kB)\n",
      "Requirement already satisfied: charset-normalizer<4,>=2 in c:\\programdata\\anaconda3\\lib\\site-packages (from requests->edgar) (2.0.4)\n",
      "Requirement already satisfied: idna<4,>=2.5 in c:\\programdata\\anaconda3\\lib\\site-packages (from requests->edgar) (3.4)\n",
      "Requirement already satisfied: urllib3<3,>=1.21.1 in c:\\programdata\\anaconda3\\lib\\site-packages (from requests->edgar) (1.26.16)\n",
      "Requirement already satisfied: certifi>=2017.4.17 in c:\\programdata\\anaconda3\\lib\\site-packages (from requests->edgar) (2023.7.22)\n",
      "Requirement already satisfied: colorama in c:\\programdata\\anaconda3\\lib\\site-packages (from tqdm->edgar) (0.4.6)\n",
      "Downloading edgar-5.4.3-py3-none-any.whl (22 kB)\n",
      "Downloading sec_edgar_downloader-5.0.2-py3-none-any.whl (14 kB)\n",
      "Downloading pyrate_limiter-3.6.0-py3-none-any.whl (26 kB)\n",
      "Downloading rapidfuzz-3.8.1-cp311-cp311-win_amd64.whl (1.7 MB)\n",
      "   ---------------------------------------- 0.0/1.7 MB ? eta -:--:--\n",
      "   ----- ---------------------------------- 0.2/1.7 MB 5.0 MB/s eta 0:00:01\n",
      "   ------------ --------------------------- 0.5/1.7 MB 5.2 MB/s eta 0:00:01\n",
      "   --------------- ------------------------ 0.7/1.7 MB 5.2 MB/s eta 0:00:01\n",
      "   --------------- ------------------------ 0.7/1.7 MB 5.2 MB/s eta 0:00:01\n",
      "   --------------------------- ------------ 1.1/1.7 MB 4.9 MB/s eta 0:00:01\n",
      "   --------------------------------- ------ 1.4/1.7 MB 4.8 MB/s eta 0:00:01\n",
      "   ---------------------------------------  1.6/1.7 MB 5.0 MB/s eta 0:00:01\n",
      "   ---------------------------------------- 1.7/1.7 MB 4.8 MB/s eta 0:00:00\n",
      "Installing collected packages: rapidfuzz, pyrate-limiter, sec-edgar-downloader, edgar\n",
      "Successfully installed edgar-5.4.3 pyrate-limiter-3.6.0 rapidfuzz-3.8.1 sec-edgar-downloader-5.0.2\n"
     ]
    }
   ],
   "source": [
    "!pip install edgar sec-edgar-downloader"
   ]
  },
  {
   "cell_type": "code",
   "execution_count": 3,
   "metadata": {},
   "outputs": [],
   "source": [
    "# from sec_edgar_downloader import Downloader\n",
    "# import os \n",
    "\n",
    "# DIA= '0001041130'\n",
    "# SPY= '0000884394'\n",
    "# QQQ= '0001067839'\n",
    "# ticker_query = ['DIA', 'SPY', 'QQQ']\n",
    "\n",
    "# dl=Downloader(\"McPherson Trucking ltd\", 'mc421667@gmail.com', r\"C:\\Users\\mikea\\Desktop\\Dataclass2\\StockPrediction_Project3\\Index_Fund_AI_Anaysis_App_Prj_3\\McP_SEC_data\\SEC_scraper.ipynb\")\n",
    "# dl.get('10-K', 'SPY', after_date='20200101', before_date='20240401')\n",
    "\n",
    "# dl.show('10-K', 'SPY')\n"
   ]
  },
  {
   "cell_type": "code",
   "execution_count": 15,
   "metadata": {},
   "outputs": [
    {
     "name": "stdout",
     "output_type": "stream",
     "text": [
      "Downloaded files: []\n"
     ]
    }
   ],
   "source": [
    "from sec_edgar_downloader import Downloader\n",
    "import os\n",
    "\n",
    "# Specify the directory where you want to save the filings\n",
    "download_directory = r\"C:\\Users\\mikea\\Desktop\\Dataclass2\\StockPrediction_Project3\\Index_Fund_AI_Anaysis_App_Prj_3\\McP_SEC_data\\SEC_edgar_DL\"\n",
    "\n",
    "# Your email address (used for SEC queries)\n",
    "email_address = \"mc421667@gmail.com\"\n",
    "\n",
    "# Create a downloader instance with the required arguments\n",
    "dl = Downloader(download_directory, email_address)\n",
    "\n",
    "# CIKs for ETFs\n",
    "DIA_CIK = '0001041130'\n",
    "SPY_CIK = '0000884394'\n",
    "QQQ_CIK = '0001067839'\n",
    "IBM_CIK = '0000051143'\n",
    "\n",
    "# Download all 10-K (company quarterly reports) or N-30D (index fund annual reports) filings for companiy/fund with CIK\n",
    "dl.get(\"NSAR-U\", DIA_CIK)\n",
    "\n",
    "\n",
    "#directory where the files are saved\n",
    "filings_path= (r\"C:\\Users\\mikea\\Desktop\\Dataclass2\\StockPrediction_Project3\\Index_Fund_AI_Anaysis_App_Prj_3\\McP_SEC_data\\SEC_edgar_DL\")\n",
    "files= os.listdir(filings_path)\n",
    "print('Downloaded files:', files)\n",
    "#read files:\n",
    "if files:\n",
    "    with open(os.path.join(filings_path, files[0]), 'r') as file:\n",
    "        content=file.read()\n",
    "        print(content[:1000])\n",
    "\n",
    "# If you need to print or check what has been downloaded, you will need to do this manually\n",
    "# by checking the directory or using other file management scripts, as `show()` is not a method in this package.\n"
   ]
  },
  {
   "cell_type": "code",
   "execution_count": null,
   "metadata": {},
   "outputs": [],
   "source": []
  }
 ],
 "metadata": {
  "kernelspec": {
   "display_name": "base",
   "language": "python",
   "name": "python3"
  },
  "language_info": {
   "codemirror_mode": {
    "name": "ipython",
    "version": 3
   },
   "file_extension": ".py",
   "mimetype": "text/x-python",
   "name": "python",
   "nbconvert_exporter": "python",
   "pygments_lexer": "ipython3",
   "version": "3.11.5"
  }
 },
 "nbformat": 4,
 "nbformat_minor": 2
}
