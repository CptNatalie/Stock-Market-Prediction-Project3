{
 "cells": [
  {
   "cell_type": "code",
   "execution_count": null,
   "metadata": {},
   "outputs": [],
   "source": [
    "import requests\n",
    "import json\n",
    "import dotenv\n",
    "import os\n",
    "import sys\n",
    "import time\n",
    "import datetime\n",
    "from dotenv import load_dotenv\n",
    "\n",
    "load_dotenv()\n",
    "API_key = os.getenv(r\"\")\n",
    "\n"
   ]
  },
  {
   "cell_type": "code",
   "execution_count": null,
   "metadata": {},
   "outputs": [],
   "source": [
    "url=www.https://www.api-sec-io/\n",
    "# headers for the requests, necessary parameters, tokens, etc for the API \n",
    "headers = {\n",
    "    'Authorization': 'Bearer YOUR_ACCESS_TOKEN',\n",
    "    'Content-Type': 'application/json'\n",
    "}\n",
    "\n",
    "#send GET request to the API\n",
    "response=requests.get(url, headers=headers)\n",
    "\n",
    "#check if request is successful\n",
    "if response.status_code == 200:\n",
    "    print('Success!')\n",
    "    data= response.json()\n",
    "    #print the response from the API\n",
    "    print(\"Data retrieved succesfully\", data)\n",
    "else:\n",
    "    print('Error! Data failed to retrieve data, status_code: ', response.status_code)\n"
   ]
  }
 ],
 "metadata": {
  "language_info": {
   "name": "python"
  }
 },
 "nbformat": 4,
 "nbformat_minor": 2
}
