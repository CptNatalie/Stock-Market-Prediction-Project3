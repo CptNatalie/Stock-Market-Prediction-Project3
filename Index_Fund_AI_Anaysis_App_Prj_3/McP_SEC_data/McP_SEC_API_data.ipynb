{
 "cells": [
  {
   "cell_type": "code",
   "execution_count": null,
   "metadata": {},
   "outputs": [],
   "source": [
    "import requests\n",
    "import json\n",
    "import dotenv\n",
    "import os\n",
    "import sys\n",
    "import time\n",
    "import datetime\n",
    "from dotenv import load_dotenv\n",
    "\n",
    "load_dotenv()\n",
    "API_key = os.getenv(r\"C:\\Users\\mikea\\Desktop\\Dataclass2\\StockPrediction_Project3\\Index_Fund_AI_Anaysis_App_Prj_3\\Resourses_Prj_3\\.env\")\n"
   ]
  },
  {
   "cell_type": "code",
   "execution_count": null,
   "metadata": {},
   "outputs": [],
   "source": [
    "url= https://api.sec-api.io/extractor\n",
    "#supported HTTP method: GET\n",
    "#response content type: text, or HTML\n",
    "# headers for the requests, necessary parameters, tokens, etc for the API \n",
    "headers = {\n",
    "    'Authorization': 'Bearer YOUR_ACCESS_TOKEN',\n",
    "    'Content-Type': 'application/json'\n",
    "}\n",
    "#send GET request to the API\n",
    "response=requests.get(url, headers=headers)\n",
    "\n",
    "#check if request is successful\n",
    "if response.status_code == 200:\n",
    "    print('Success!')\n",
    "    #load the response data into a variable\n",
    "    data= response.json()\n",
    "    #print the response from the API\n",
    "    print(\"Data retrieved succesfully\", data)\n",
    "# if request is not successful, print the error code\n",
    "else:\n",
    "    print('Error! Data failed to retrieve data, status_code: ', response.status_code)\n"
   ]
  },
  {
   "cell_type": "code",
   "execution_count": null,
   "metadata": {},
   "outputs": [],
   "source": []
  }
 ],
 "metadata": {
  "language_info": {
   "name": "python"
  }
 },
 "nbformat": 4,
 "nbformat_minor": 2
}
